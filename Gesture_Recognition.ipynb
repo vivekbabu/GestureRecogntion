{
  "cells": [
    {
      "cell_type": "markdown",
      "metadata": {
        "id": "JGdJe73CsCyJ"
      },
      "source": [
        "# Gesture Recognition\n",
        "In this group project, you are going to build a 3D Conv model that will be able to predict the 5 gestures correctly. Please import the following libraries to get started."
      ]
    },
    {
      "cell_type": "code",
      "execution_count": 1,
      "metadata": {
        "id": "zHMPlnv0sCyW"
      },
      "outputs": [],
      "source": [
        "import numpy as np\n",
        "import os\n",
        "import imageio\n",
        "from skimage.transform import resize, rescale\n",
        "import datetime\n",
        "import os\n",
        "\n",
        "import matplotlib.pyplot as plt"
      ]
    },
    {
      "cell_type": "markdown",
      "metadata": {
        "id": "dMtPN5aisCyW"
      },
      "source": [
        "We set the random seed so that the results don't vary drastically."
      ]
    },
    {
      "cell_type": "code",
      "execution_count": 2,
      "metadata": {
        "colab": {
          "base_uri": "https://localhost:8080/"
        },
        "id": "GnsMleXasCyX",
        "outputId": "7f5e4a6e-acb9-4601-f10c-6a04bf9a8896"
      },
      "outputs": [
        {
          "output_type": "stream",
          "name": "stdout",
          "text": [
            "2.15.0\n"
          ]
        }
      ],
      "source": [
        "import tensorflow as tf\n",
        "print(tf.__version__)\n",
        "np.random.seed(30)\n",
        "import random as rn\n",
        "rn.seed(30)\n",
        "from keras import backend as K\n",
        "tf.random.set_seed(30)"
      ]
    },
    {
      "cell_type": "code",
      "source": [
        "## If you are using the data by mounting the google drive, use the following :\n",
        "from google.colab import drive\n",
        "import pathlib\n",
        "from pathlib import Path\n",
        "drive.mount('/content/gdrive')\n",
        "from zipfile import ZipFile\n",
        "with ZipFile('/content/gdrive/MyDrive/Project_data.zip','r') as zip:\n",
        "  zip.extractall('/tmp')\n"
      ],
      "metadata": {
        "colab": {
          "base_uri": "https://localhost:8080/"
        },
        "id": "UXrclOYNXqAe",
        "outputId": "99321c86-b8e7-42ba-b210-3e76ac04d21f"
      },
      "execution_count": 3,
      "outputs": [
        {
          "output_type": "stream",
          "name": "stdout",
          "text": [
            "Drive already mounted at /content/gdrive; to attempt to forcibly remount, call drive.mount(\"/content/gdrive\", force_remount=True).\n"
          ]
        }
      ]
    },
    {
      "cell_type": "markdown",
      "metadata": {
        "id": "dztVL3JSsCyX"
      },
      "source": [
        "In this block, you read the folder names for training and validation. You also set the `batch_size` here. Note that you set the batch size in such a way that you are able to use the GPU in full capacity. You keep increasing the batch size until the machine throws an error."
      ]
    },
    {
      "cell_type": "code",
      "execution_count": 4,
      "metadata": {
        "id": "vKMnqPnTsCyY"
      },
      "outputs": [],
      "source": [
        "train_path =  \"/tmp/Project_data/train\"\n",
        "val_path =  \"/tmp/Project_data/val\"\n",
        "train_doc = np.random.permutation(open('/tmp/Project_data/train.csv').readlines())\n",
        "val_doc = np.random.permutation(open('/tmp/Project_data/val.csv').readlines())\n",
        "num_classes = 5  #number of softmax classes"
      ]
    },
    {
      "cell_type": "code",
      "source": [
        "curr_dt_time = datetime.datetime.now()\n",
        "num_train_sequences = len(train_doc)\n",
        "print('# training sequences =', num_train_sequences)\n",
        "num_val_sequences = len(val_doc)\n",
        "print('# validation sequences =', num_val_sequences)"
      ],
      "metadata": {
        "colab": {
          "base_uri": "https://localhost:8080/"
        },
        "id": "gXL4bhBmZwFm",
        "outputId": "491f906a-04e7-4928-ad8d-b514385bf654"
      },
      "execution_count": 5,
      "outputs": [
        {
          "output_type": "stream",
          "name": "stdout",
          "text": [
            "# training sequences = 663\n",
            "# validation sequences = 100\n"
          ]
        }
      ]
    },
    {
      "cell_type": "markdown",
      "source": [
        "#### Utitlity Functions"
      ],
      "metadata": {
        "id": "8jvamweWpmcO"
      }
    },
    {
      "cell_type": "code",
      "source": [
        "def plot_loss_accuracy(history):\n",
        "    # list all data in history\n",
        "    print(history.history.keys())\n",
        "    # summarize history for accuracy\n",
        "    plt.plot(history.history['categorical_accuracy'])\n",
        "    plt.plot(history.history['val_categorical_accuracy'])\n",
        "    plt.title('model accuracy')\n",
        "    plt.ylabel('accuracy')\n",
        "    plt.xlabel('epoch')\n",
        "    plt.legend(['train', 'test'], loc='upper left')\n",
        "    plt.show()\n",
        "    # summarize history for loss\n",
        "    plt.plot(history.history['loss'])\n",
        "    plt.plot(history.history['val_loss'])\n",
        "    plt.title('model loss')\n",
        "    plt.ylabel('loss')\n",
        "    plt.xlabel('epoch')\n",
        "    plt.legend(['train', 'test'], loc='upper left')\n",
        "    plt.show()"
      ],
      "metadata": {
        "id": "yckqnWSBpnnm"
      },
      "execution_count": 6,
      "outputs": []
    },
    {
      "cell_type": "code",
      "source": [
        "def calculate_steps(num_train_sequences, num_val_sequences, batch_size):\n",
        "    if (num_train_sequences%batch_size) == 0:\n",
        "        steps_per_epoch = int(num_train_sequences/batch_size)\n",
        "    else:\n",
        "        steps_per_epoch = (num_train_sequences//batch_size) + 1\n",
        "\n",
        "    if (num_val_sequences%batch_size) == 0:\n",
        "        validation_steps = int(num_val_sequences/batch_size)\n",
        "    else:\n",
        "        validation_steps = (num_val_sequences//batch_size) + 1\n",
        "\n",
        "    return steps_per_epoch,validation_steps"
      ],
      "metadata": {
        "id": "IXokrKqSpuZY"
      },
      "execution_count": 7,
      "outputs": []
    },
    {
      "cell_type": "code",
      "source": [
        "def model_callbacks(folder_name):\n",
        "    model_name = str(folder_name) + '_' + str(curr_dt_time).replace(' ','').replace(':','_') + '/'\n",
        "\n",
        "    if not os.path.exists(model_name):\n",
        "        os.mkdir(model_name)\n",
        "\n",
        "    filepath = model_name + 'model-{epoch:05d}-{loss:.5f}-{categorical_accuracy:.5f}-{val_loss:.5f}-{val_categorical_accuracy:.5f}.h5'\n",
        "\n",
        "    checkpoint = ModelCheckpoint(filepath, monitor='val_loss', verbose=1, save_best_only=True, save_weights_only=False, mode='auto', period=1)\n",
        "\n",
        "    LR = ReduceLROnPlateau(monitor='val_loss', factor=0.1, patience=3, min_lr=0.0001, cooldown=1, verbose=1) # write the REducelronplateau code here\n",
        "\n",
        "    return [checkpoint, LR]"
      ],
      "metadata": {
        "id": "BqFkUZqZpyXc"
      },
      "execution_count": 8,
      "outputs": []
    },
    {
      "cell_type": "markdown",
      "metadata": {
        "id": "yBqeBbkLsCyY"
      },
      "source": [
        "## Generator\n",
        "This is one of the most important part of the code. The overall structure of the generator has been given. In the generator, you are going to preprocess the images as you have images of 2 different dimensions as well as create a batch of video frames. You have to experiment with `img_idx`, `y`,`z` and normalization such that you get high accuracy."
      ]
    },
    {
      "cell_type": "code",
      "execution_count": 9,
      "metadata": {
        "colab": {
          "base_uri": "https://localhost:8080/"
        },
        "id": "FqYfRJ86sCyY",
        "outputId": "1c8fdf17-5d35-42af-e67b-5b871fd6e4b5"
      },
      "outputs": [
        {
          "output_type": "stream",
          "name": "stderr",
          "text": [
            "/usr/local/lib/python3.10/dist-packages/keras/src/preprocessing/image.py:1444: UserWarning: This ImageDataGenerator specifies `zca_whitening`, which overrides setting of `featurewise_center`.\n",
            "  warnings.warn(\n"
          ]
        }
      ],
      "source": [
        "from keras.preprocessing.image import ImageDataGenerator\n",
        "\n",
        "datagen = ImageDataGenerator(\n",
        "    zoom_range=0.1,\n",
        "    zca_whitening=True,\n",
        "    width_shift_range=0.1,\n",
        "    height_shift_range=0.1)\n",
        "\n",
        "def generate(source_path, folder_list, batch_size, num_images=20, height=120, width=120, augment=False):\n",
        "    #print( 'Source path = ', source_path, '; batch size =', batch_size)\n",
        "    total_frames = 30\n",
        "\n",
        "    while True:\n",
        "        t = np.random.permutation(folder_list)\n",
        "        num_batches = len(t)//batch_size # calculate the number of batches\n",
        "        #img_idx = sorted(rn.sample(range(0, total_frames), num_images)) #create a list of image numbers you want to use for a particular video\n",
        "        img_idx = np.round(np.linspace(0,total_frames-1,num_images)).astype(int) #create a list of image numbers you want to use for a particular video\n",
        "\n",
        "        for batch in range(num_batches): # we iterate over the number of batches\n",
        "            batch_data   = np.zeros((batch_size, num_images, height, width, 3)) # 3 is the number of channels RGB\n",
        "            batch_labels = np.zeros((batch_size, 5)) # batch_labels is the one hot representation of the output\n",
        "\n",
        "            for folder in range(batch_size): # iterate over the batch_size\n",
        "                imgs = os.listdir(source_path+'/'+ t[folder + (batch*batch_size)].split(';')[0]) # read all the images in the folder\n",
        "                for idx,item in enumerate(img_idx): #  Iterate over the frames/images of a folder to read them in\n",
        "                    image = imageio.imread(source_path+'/'+ t[folder + (batch*batch_size)].strip().split(';')[0]+'/'+imgs[item]).astype(np.float32)\n",
        "\n",
        "                    #crop the images and resize them. Note that the images are of 2 different shape\n",
        "                    #and the conv3D will throw error if the inputs in a batch have different shapes\n",
        "                    h, w, c = image.shape\n",
        "                    image = resize(image, (height, width), anti_aliasing=True)\n",
        "\n",
        "                    # Randomly transform few images of few folders; note that folders are randomly shuffled in each epoch too\n",
        "                    if augment:\n",
        "                        if np.random.randn() > 0:\n",
        "                            image = datagen.random_transform(image)\n",
        "\n",
        "                    batch_data[folder,idx,:,:,0] = (image[...,0])/255 #normalise and feed in the image\n",
        "                    batch_data[folder,idx,:,:,1] = (image[...,1])/255 #normalise and feed in the image\n",
        "                    batch_data[folder,idx,:,:,2] = (image[...,2])/255 #normalise and feed in the image\n",
        "\n",
        "                batch_labels[folder, int(t[folder + (batch*batch_size)].strip().split(';')[2])] = 1\n",
        "\n",
        "            yield batch_data, batch_labels #you yield the batch_data and the batch_labels, remember what does yield do\n",
        "\n",
        "        # write the code for the remaining data points which are left after full batches\n",
        "        if (len(t)%batch_size):\n",
        "            remaining_batch_size = len(t)%batch_size\n",
        "            batch_data   = np.zeros((remaining_batch_size, num_images, height, width,3)) # 3 is the number of channels RGB\n",
        "            batch_labels = np.zeros((remaining_batch_size,5)) # batch_labels is the one hot representation of the output\n",
        "\n",
        "            for folder in range(remaining_batch_size): # iterate over the batch_size\n",
        "                imgs = os.listdir(source_path+'/'+ t[folder + (num_batches*batch_size)].split(';')[0]) # read all the images in the folder\n",
        "                for idx,item in enumerate(img_idx): #  Iterate iver the frames/images of a folder to read them in\n",
        "                    image = imageio.imread(source_path+'/'+ t[folder + (num_batches*batch_size)].strip().split(';')[0]+'/'+imgs[item]).astype(np.float32)\n",
        "\n",
        "                    #crop the images and resize them. Note that the images are of 2 different shape\n",
        "                    #and the conv3D will throw error if the inputs in a batch have different shapes\n",
        "                    h, w, c = image.shape\n",
        "                    image = resize(image, (height, width), anti_aliasing=True)\n",
        "\n",
        "                    # Randomly transform few images of few folders; note that folders are randomly shuffled in each epoch too\n",
        "                    if augment:\n",
        "                        if np.random.randn() > 0:\n",
        "                            image = datagen.random_transform(image)\n",
        "\n",
        "                    batch_data[folder,idx,:,:,0] = (image[...,0])/255 #normalise and feed in the image\n",
        "                    batch_data[folder,idx,:,:,1] = (image[...,1])/255 #normalise and feed in the image\n",
        "                    batch_data[folder,idx,:,:,2] = (image[...,2])/255 #normalise and feed in the image\n",
        "                    #batch_data[folder,idx,:,:,0] = (image[...,0] - image[...,0].min())/(image[...,0].max() - image[...,0].min())#normalise and feed in the image\n",
        "                    #batch_data[folder,idx,:,:,1] = (image[...,1] - image[...,1].min())/(image[...,1].max() - image[...,1].min())#normalise and feed in the image\n",
        "                    #batch_data[folder,idx,:,:,2] = (image[...,2] - image[...,2].min())/(image[...,2].max() - image[...,2].min())#normalise and feed in the image\n",
        "\n",
        "                batch_labels[folder, int(t[folder + (num_batches*batch_size)].strip().split(';')[2])] = 1\n",
        "\n",
        "            yield batch_data, batch_labels #you yield the batch_data and the batch_labels, remember what does yield do"
      ]
    },
    {
      "cell_type": "markdown",
      "metadata": {
        "id": "-yxBzD0asCyY"
      },
      "source": [
        "Note here that a video is represented above in the generator as (number of images, height, width, number of channels). Take this into consideration while creating the model architecture."
      ]
    },
    {
      "cell_type": "markdown",
      "metadata": {
        "id": "6FhUl5hQsCyZ"
      },
      "source": [
        "## Model\n",
        "Here you make the model using different functionalities that Keras provides. Remember to use `Conv3D` and `MaxPooling3D` and not `Conv2D` and `Maxpooling2D` for a 3D convolution model. You would want to use `TimeDistributed` while building a Conv2D + RNN model. Also remember that the last layer is the softmax. Design the network in such a way that the model is able to give good accuracy on the least number of parameters so that it can fit in the memory of the webcam."
      ]
    },
    {
      "cell_type": "code",
      "execution_count": 10,
      "metadata": {
        "id": "J2u9A6fbsCyZ"
      },
      "outputs": [],
      "source": [
        "from keras.models import Sequential, Model\n",
        "from keras.layers import Dense, Dropout, GRU, LSTM, Flatten, TimeDistributed, Flatten, BatchNormalization, Activation\n",
        "from keras.layers import Conv3D, MaxPooling3D, Conv2D, MaxPooling2D\n",
        "from keras.callbacks import ModelCheckpoint, ReduceLROnPlateau\n",
        "from keras.regularizers import l2\n",
        "from keras import optimizers"
      ]
    },
    {
      "cell_type": "markdown",
      "source": [
        "#Conv3D Models"
      ],
      "metadata": {
        "id": "W8nrEjbGs4GD"
      }
    },
    {
      "cell_type": "markdown",
      "source": [],
      "metadata": {
        "id": "wQeGc5Yys3Sw"
      }
    },
    {
      "cell_type": "code",
      "source": [
        "# Common utility to create conv 3D models\n",
        "def conv3D(conv_filters=(16, 32, 64, 128), dense_nodes=(256,128), dropout=0.25, num_images=20, height=120, width=120):\n",
        "\n",
        "    model = Sequential()\n",
        "\n",
        "    model.add(Conv3D(conv_filters[0], (3, 3, 3), padding='same', input_shape=(num_images, height, width, 3)))\n",
        "    model.add(Activation('relu'))\n",
        "    model.add(BatchNormalization())\n",
        "    model.add(MaxPooling3D(pool_size=(2, 2, 2)))\n",
        "\n",
        "    model.add(Conv3D(conv_filters[1], (3, 3, 3), padding='same'))\n",
        "    model.add(Activation('relu'))\n",
        "    model.add(BatchNormalization())\n",
        "    model.add(MaxPooling3D(pool_size=(2, 2, 2)))\n",
        "\n",
        "    model.add(Conv3D(conv_filters[2], (3, 3, 3), padding='same'))\n",
        "    model.add(Activation('relu'))\n",
        "    model.add(BatchNormalization())\n",
        "    model.add(MaxPooling3D(pool_size=(2, 2, 2)))\n",
        "\n",
        "    model.add(Conv3D(conv_filters[3], (3, 3, 3), padding='same'))\n",
        "    model.add(Activation('relu'))\n",
        "    model.add(BatchNormalization())\n",
        "    model.add(MaxPooling3D(pool_size=(2, 2, 2)))\n",
        "\n",
        "    model.add(Flatten())\n",
        "    model.add(Dense(dense_nodes[0]))\n",
        "    model.add(Activation('relu'))\n",
        "    model.add(BatchNormalization())\n",
        "    model.add(Dropout(dropout))\n",
        "\n",
        "    model.add(Dense(dense_nodes[1]))\n",
        "    model.add(Activation('relu'))\n",
        "    model.add(BatchNormalization())\n",
        "    model.add(Dropout(dropout))\n",
        "\n",
        "    model.add(Dense(num_classes))\n",
        "    model.add(Activation('softmax'))\n",
        "\n",
        "    opt = optimizers.Adam() #write your optimizer\n",
        "    model.compile(opt, loss='categorical_crossentropy', metrics=['categorical_accuracy'])\n",
        "\n",
        "    return model"
      ],
      "metadata": {
        "id": "6M3CR9GWs7gP"
      },
      "execution_count": 11,
      "outputs": []
    },
    {
      "cell_type": "markdown",
      "source": [
        "##Conv 3D Model with 30 frames per video (16, 32, 64, 128 filters conv 3D layers + 256 dense layer + 128 dense layer + image size 120 by 120)"
      ],
      "metadata": {
        "id": "Er7k5VFbtFlG"
      }
    },
    {
      "cell_type": "code",
      "source": [
        "num_epochs = 25 # choose the number of epochs\n",
        "print ('# epochs =', num_epochs)\n",
        "batch_size = 10  #experiment with the batch size\n",
        "print ('# batch size =', batch_size)\n",
        "num_frames = 30\n",
        "print ('# num_frames per video =', num_frames)\n",
        "height = 120\n",
        "width = 120\n",
        "\n",
        "model = conv3D(num_images=num_frames)\n",
        "\n",
        "print (model.summary())"
      ],
      "metadata": {
        "colab": {
          "base_uri": "https://localhost:8080/"
        },
        "id": "0VAZsv-DtKKG",
        "outputId": "049c01f4-f5c2-493f-ae6a-24eda8acec42"
      },
      "execution_count": 12,
      "outputs": [
        {
          "output_type": "stream",
          "name": "stdout",
          "text": [
            "# epochs = 25\n",
            "# batch size = 10\n",
            "# num_frames per video = 30\n",
            "Model: \"sequential\"\n",
            "_________________________________________________________________\n",
            " Layer (type)                Output Shape              Param #   \n",
            "=================================================================\n",
            " conv3d (Conv3D)             (None, 30, 120, 120, 16   1312      \n",
            "                             )                                   \n",
            "                                                                 \n",
            " activation (Activation)     (None, 30, 120, 120, 16   0         \n",
            "                             )                                   \n",
            "                                                                 \n",
            " batch_normalization (Batch  (None, 30, 120, 120, 16   64        \n",
            " Normalization)              )                                   \n",
            "                                                                 \n",
            " max_pooling3d (MaxPooling3  (None, 15, 60, 60, 16)    0         \n",
            " D)                                                              \n",
            "                                                                 \n",
            " conv3d_1 (Conv3D)           (None, 15, 60, 60, 32)    13856     \n",
            "                                                                 \n",
            " activation_1 (Activation)   (None, 15, 60, 60, 32)    0         \n",
            "                                                                 \n",
            " batch_normalization_1 (Bat  (None, 15, 60, 60, 32)    128       \n",
            " chNormalization)                                                \n",
            "                                                                 \n",
            " max_pooling3d_1 (MaxPoolin  (None, 7, 30, 30, 32)     0         \n",
            " g3D)                                                            \n",
            "                                                                 \n",
            " conv3d_2 (Conv3D)           (None, 7, 30, 30, 64)     55360     \n",
            "                                                                 \n",
            " activation_2 (Activation)   (None, 7, 30, 30, 64)     0         \n",
            "                                                                 \n",
            " batch_normalization_2 (Bat  (None, 7, 30, 30, 64)     256       \n",
            " chNormalization)                                                \n",
            "                                                                 \n",
            " max_pooling3d_2 (MaxPoolin  (None, 3, 15, 15, 64)     0         \n",
            " g3D)                                                            \n",
            "                                                                 \n",
            " conv3d_3 (Conv3D)           (None, 3, 15, 15, 128)    221312    \n",
            "                                                                 \n",
            " activation_3 (Activation)   (None, 3, 15, 15, 128)    0         \n",
            "                                                                 \n",
            " batch_normalization_3 (Bat  (None, 3, 15, 15, 128)    512       \n",
            " chNormalization)                                                \n",
            "                                                                 \n",
            " max_pooling3d_3 (MaxPoolin  (None, 1, 7, 7, 128)      0         \n",
            " g3D)                                                            \n",
            "                                                                 \n",
            " flatten (Flatten)           (None, 6272)              0         \n",
            "                                                                 \n",
            " dense (Dense)               (None, 256)               1605888   \n",
            "                                                                 \n",
            " activation_4 (Activation)   (None, 256)               0         \n",
            "                                                                 \n",
            " batch_normalization_4 (Bat  (None, 256)               1024      \n",
            " chNormalization)                                                \n",
            "                                                                 \n",
            " dropout (Dropout)           (None, 256)               0         \n",
            "                                                                 \n",
            " dense_1 (Dense)             (None, 128)               32896     \n",
            "                                                                 \n",
            " activation_5 (Activation)   (None, 128)               0         \n",
            "                                                                 \n",
            " batch_normalization_5 (Bat  (None, 128)               512       \n",
            " chNormalization)                                                \n",
            "                                                                 \n",
            " dropout_1 (Dropout)         (None, 128)               0         \n",
            "                                                                 \n",
            " dense_2 (Dense)             (None, 5)                 645       \n",
            "                                                                 \n",
            " activation_6 (Activation)   (None, 5)                 0         \n",
            "                                                                 \n",
            "=================================================================\n",
            "Total params: 1933765 (7.38 MB)\n",
            "Trainable params: 1932517 (7.37 MB)\n",
            "Non-trainable params: 1248 (4.88 KB)\n",
            "_________________________________________________________________\n",
            "None\n"
          ]
        }
      ]
    },
    {
      "cell_type": "code",
      "source": [
        "callbacks_list = model_callbacks(\"model_conv3D_1\")\n",
        "\n",
        "steps_per_epoch, validation_steps = calculate_steps(num_train_sequences, num_val_sequences, batch_size)\n",
        "\n",
        "train_generator = generate(train_path, train_doc, batch_size, num_images=num_frames)\n",
        "\n",
        "val_generator   = generate(val_path, val_doc, batch_size, num_images=num_frames)\n"
      ],
      "metadata": {
        "colab": {
          "base_uri": "https://localhost:8080/"
        },
        "id": "UJ3pUkWMtRJz",
        "outputId": "1de86bfb-f293-494f-e90f-a8a0b93a4def"
      },
      "execution_count": 13,
      "outputs": [
        {
          "output_type": "stream",
          "name": "stderr",
          "text": [
            "WARNING:tensorflow:`period` argument is deprecated. Please use `save_freq` to specify the frequency in number of batches seen.\n"
          ]
        }
      ]
    },
    {
      "cell_type": "code",
      "source": [
        "history_model_conv3D_1 = model.fit_generator(train_generator, steps_per_epoch=steps_per_epoch, epochs=num_epochs, verbose=1,\n",
        "                            callbacks=callbacks_list, validation_data=val_generator,\n",
        "                            validation_steps=validation_steps, class_weight=None, workers=1, initial_epoch=0)"
      ],
      "metadata": {
        "colab": {
          "base_uri": "https://localhost:8080/",
          "height": 456
        },
        "id": "1oyVZt19tVtm",
        "outputId": "8992fe50-cc78-4256-e5db-3353ff8237b6"
      },
      "execution_count": 15,
      "outputs": [
        {
          "output_type": "stream",
          "name": "stderr",
          "text": [
            "<ipython-input-15-84a4d1cb5f36>:1: UserWarning: `Model.fit_generator` is deprecated and will be removed in a future version. Please use `Model.fit`, which supports generators.\n",
            "  history = model.fit_generator(train_generator, steps_per_epoch=steps_per_epoch, epochs=num_epochs, verbose=1,\n"
          ]
        },
        {
          "output_type": "error",
          "ename": "ValueError",
          "evalue": "generator already executing",
          "traceback": [
            "\u001b[0;31m---------------------------------------------------------------------------\u001b[0m",
            "\u001b[0;31mValueError\u001b[0m                                Traceback (most recent call last)",
            "\u001b[0;32m<ipython-input-15-84a4d1cb5f36>\u001b[0m in \u001b[0;36m<cell line: 1>\u001b[0;34m()\u001b[0m\n\u001b[0;32m----> 1\u001b[0;31m history = model.fit_generator(train_generator, steps_per_epoch=steps_per_epoch, epochs=num_epochs, verbose=1, \n\u001b[0m\u001b[1;32m      2\u001b[0m                             \u001b[0mcallbacks\u001b[0m\u001b[0;34m=\u001b[0m\u001b[0mcallbacks_list\u001b[0m\u001b[0;34m,\u001b[0m \u001b[0mvalidation_data\u001b[0m\u001b[0;34m=\u001b[0m\u001b[0mval_generator\u001b[0m\u001b[0;34m,\u001b[0m\u001b[0;34m\u001b[0m\u001b[0;34m\u001b[0m\u001b[0m\n\u001b[1;32m      3\u001b[0m                             validation_steps=validation_steps, class_weight=None, workers=1, initial_epoch=0)\n",
            "\u001b[0;32m/usr/local/lib/python3.10/dist-packages/keras/src/engine/training.py\u001b[0m in \u001b[0;36mfit_generator\u001b[0;34m(self, generator, steps_per_epoch, epochs, verbose, callbacks, validation_data, validation_steps, validation_freq, class_weight, max_queue_size, workers, use_multiprocessing, shuffle, initial_epoch)\u001b[0m\n\u001b[1;32m   2911\u001b[0m             \u001b[0mstacklevel\u001b[0m\u001b[0;34m=\u001b[0m\u001b[0;36m2\u001b[0m\u001b[0;34m,\u001b[0m\u001b[0;34m\u001b[0m\u001b[0;34m\u001b[0m\u001b[0m\n\u001b[1;32m   2912\u001b[0m         )\n\u001b[0;32m-> 2913\u001b[0;31m         return self.fit(\n\u001b[0m\u001b[1;32m   2914\u001b[0m             \u001b[0mgenerator\u001b[0m\u001b[0;34m,\u001b[0m\u001b[0;34m\u001b[0m\u001b[0;34m\u001b[0m\u001b[0m\n\u001b[1;32m   2915\u001b[0m             \u001b[0msteps_per_epoch\u001b[0m\u001b[0;34m=\u001b[0m\u001b[0msteps_per_epoch\u001b[0m\u001b[0;34m,\u001b[0m\u001b[0;34m\u001b[0m\u001b[0;34m\u001b[0m\u001b[0m\n",
            "\u001b[0;32m/usr/local/lib/python3.10/dist-packages/keras/src/utils/traceback_utils.py\u001b[0m in \u001b[0;36merror_handler\u001b[0;34m(*args, **kwargs)\u001b[0m\n\u001b[1;32m     68\u001b[0m             \u001b[0;31m# To get the full stack trace, call:\u001b[0m\u001b[0;34m\u001b[0m\u001b[0;34m\u001b[0m\u001b[0m\n\u001b[1;32m     69\u001b[0m             \u001b[0;31m# `tf.debugging.disable_traceback_filtering()`\u001b[0m\u001b[0;34m\u001b[0m\u001b[0;34m\u001b[0m\u001b[0m\n\u001b[0;32m---> 70\u001b[0;31m             \u001b[0;32mraise\u001b[0m \u001b[0me\u001b[0m\u001b[0;34m.\u001b[0m\u001b[0mwith_traceback\u001b[0m\u001b[0;34m(\u001b[0m\u001b[0mfiltered_tb\u001b[0m\u001b[0;34m)\u001b[0m \u001b[0;32mfrom\u001b[0m \u001b[0;32mNone\u001b[0m\u001b[0;34m\u001b[0m\u001b[0;34m\u001b[0m\u001b[0m\n\u001b[0m\u001b[1;32m     71\u001b[0m         \u001b[0;32mfinally\u001b[0m\u001b[0;34m:\u001b[0m\u001b[0;34m\u001b[0m\u001b[0;34m\u001b[0m\u001b[0m\n\u001b[1;32m     72\u001b[0m             \u001b[0;32mdel\u001b[0m \u001b[0mfiltered_tb\u001b[0m\u001b[0;34m\u001b[0m\u001b[0;34m\u001b[0m\u001b[0m\n",
            "\u001b[0;32m/usr/local/lib/python3.10/dist-packages/keras/src/engine/data_adapter.py\u001b[0m in \u001b[0;36m_peek_and_restore\u001b[0;34m(x)\u001b[0m\n\u001b[1;32m    947\u001b[0m     \u001b[0;34m@\u001b[0m\u001b[0mstaticmethod\u001b[0m\u001b[0;34m\u001b[0m\u001b[0;34m\u001b[0m\u001b[0m\n\u001b[1;32m    948\u001b[0m     \u001b[0;32mdef\u001b[0m \u001b[0m_peek_and_restore\u001b[0m\u001b[0;34m(\u001b[0m\u001b[0mx\u001b[0m\u001b[0;34m)\u001b[0m\u001b[0;34m:\u001b[0m\u001b[0;34m\u001b[0m\u001b[0;34m\u001b[0m\u001b[0m\n\u001b[0;32m--> 949\u001b[0;31m         \u001b[0mpeek\u001b[0m \u001b[0;34m=\u001b[0m \u001b[0mnext\u001b[0m\u001b[0;34m(\u001b[0m\u001b[0mx\u001b[0m\u001b[0;34m)\u001b[0m\u001b[0;34m\u001b[0m\u001b[0;34m\u001b[0m\u001b[0m\n\u001b[0m\u001b[1;32m    950\u001b[0m         \u001b[0;32mreturn\u001b[0m \u001b[0mpeek\u001b[0m\u001b[0;34m,\u001b[0m \u001b[0mitertools\u001b[0m\u001b[0;34m.\u001b[0m\u001b[0mchain\u001b[0m\u001b[0;34m(\u001b[0m\u001b[0;34m[\u001b[0m\u001b[0mpeek\u001b[0m\u001b[0;34m]\u001b[0m\u001b[0;34m,\u001b[0m \u001b[0mx\u001b[0m\u001b[0;34m)\u001b[0m\u001b[0;34m\u001b[0m\u001b[0;34m\u001b[0m\u001b[0m\n\u001b[1;32m    951\u001b[0m \u001b[0;34m\u001b[0m\u001b[0m\n",
            "\u001b[0;31mValueError\u001b[0m: generator already executing"
          ]
        },
        {
          "output_type": "stream",
          "name": "stderr",
          "text": [
            "<ipython-input-9-64034d4a8eab>:26: DeprecationWarning: Starting with ImageIO v3 the behavior of this function will switch to that of iio.v3.imread. To keep the current behavior (and make this warning disappear) use `import imageio.v2 as imageio` or call `imageio.v2.imread` directly.\n",
            "  image = imageio.imread(source_path+'/'+ t[folder + (batch*batch_size)].strip().split(';')[0]+'/'+imgs[item]).astype(np.float32)\n"
          ]
        }
      ]
    },
    {
      "cell_type": "code",
      "execution_count": null,
      "metadata": {
        "id": "RpFR2h5esCya"
      },
      "outputs": [],
      "source": [
        "plot_loss_accuracy(history_model_conv3D_1)\n"
      ]
    },
    {
      "cell_type": "markdown",
      "source": [
        "##Conv 3D Model with 20 frames per video (16, 32, 64, 128 filters conv 3D layers + 256 dense layer + 128 dense layer + image size 120 by 120)"
      ],
      "metadata": {
        "id": "qaPk-4vVjP-u"
      }
    },
    {
      "cell_type": "code",
      "source": [
        "num_epochs = 20 # choose the number of epochs\n",
        "#print ('# epochs =', num_epochs)\n",
        "batch_size = 10  #experiment with the batch size\n",
        "print ('# batch size =', batch_size)\n",
        "num_frames = 20\n",
        "print ('# num_frames per video =', num_frames)\n",
        "height = 120\n",
        "width = 120\n",
        "\n",
        "model = conv3D(num_images=num_frames)\n",
        "\n",
        "print (model.summary())"
      ],
      "metadata": {
        "id": "dkbW6eEzjSeq"
      },
      "execution_count": null,
      "outputs": []
    },
    {
      "cell_type": "code",
      "source": [
        "callbacks_list = model_callbacks(\"model_conv3D_2\")\n",
        "\n",
        "steps_per_epoch, validation_steps = calculate_steps(num_train_sequences, num_val_sequences, batch_size)\n",
        "\n",
        "train_generator = generate(train_path, train_doc, batch_size, num_images=num_frames)\n",
        "\n",
        "val_generator   = generate(val_path, val_doc, batch_size, num_images=num_frames)"
      ],
      "metadata": {
        "id": "E82oRofkj0OO"
      },
      "execution_count": null,
      "outputs": []
    },
    {
      "cell_type": "code",
      "source": [
        "history_model_conv3D_2 = model.fit_generator(train_generator, steps_per_epoch=steps_per_epoch, epochs=num_epochs, verbose=1,\n",
        "                              callbacks=callbacks_list, validation_data=val_generator,\n",
        "                              validation_steps=validation_steps, class_weight=None, workers=1, initial_epoch=0)"
      ],
      "metadata": {
        "id": "mXLbGPiBj-rn"
      },
      "execution_count": null,
      "outputs": []
    },
    {
      "cell_type": "code",
      "source": [
        "plot_loss_accuracy(history_model_conv3D_2)"
      ],
      "metadata": {
        "id": "56gz-Ca6vNQd"
      },
      "execution_count": null,
      "outputs": []
    },
    {
      "cell_type": "code",
      "source": [
        "## Conv 3D Model with 30 frames per video (16, 32, 64, 128 filters conv 3D layers + 256 dense layer + 128 dense layer) + Random data transformations on training data set"
      ],
      "metadata": {
        "id": "s0GJrkuRFLPA"
      },
      "execution_count": null,
      "outputs": []
    },
    {
      "cell_type": "markdown",
      "source": [],
      "metadata": {
        "id": "dJWGF8r4vK2E"
      }
    },
    {
      "cell_type": "code",
      "source": [
        "num_epochs = 15 # choose the number of epochs\n",
        "print ('# epochs =', num_epochs)\n",
        "batch_size = 10  #experiment with the batch size\n",
        "print ('# batch size =', batch_size)\n",
        "num_frames = 30\n",
        "print ('# num_frames per video =', num_frames)\n",
        "height = 120\n",
        "width = 120\n",
        "\n",
        "model = conv3D(num_images=num_frames)\n",
        "\n",
        "print (model.summary())"
      ],
      "metadata": {
        "id": "zbRz-Of-VmgK"
      },
      "execution_count": null,
      "outputs": []
    },
    {
      "cell_type": "code",
      "source": [
        "callbacks_list = model_callbacks(\"model_conv3D_3\")\n",
        "\n",
        "steps_per_epoch, validation_steps = calculate_steps(num_train_sequences, num_val_sequences, batch_size)\n",
        "\n",
        "train_generator = generate(train_path, train_doc, batch_size, augment=True, num_images=num_frames)\n",
        "\n",
        "val_generator   = generate(val_path, val_doc, batch_size, num_images=num_frames)"
      ],
      "metadata": {
        "id": "di7Kev_dVtQ7"
      },
      "execution_count": null,
      "outputs": []
    },
    {
      "cell_type": "code",
      "source": [
        "history_model_conv3D_3 = model.fit_generator(train_generator, steps_per_epoch=steps_per_epoch, epochs=num_epochs, verbose=1,\n",
        "                              callbacks=callbacks_list, validation_data=val_generator,\n",
        "                              validation_steps=validation_steps, class_weight=None, workers=1, initial_epoch=0)"
      ],
      "metadata": {
        "id": "3Uz63J9aXi8j"
      },
      "execution_count": null,
      "outputs": []
    },
    {
      "cell_type": "code",
      "source": [
        "plot_loss_accuracy(history_model_conv3D_3)"
      ],
      "metadata": {
        "id": "OZO5kQQHXnSd"
      },
      "execution_count": null,
      "outputs": []
    },
    {
      "cell_type": "markdown",
      "source": [
        "##Conv 3D Model with 30 frames per video and a 5 by 5 filter size (16, 32, 64, 128 filters conv 3D layers + 256 dense layer + 128 dense layer + image size 120 by 120)"
      ],
      "metadata": {
        "id": "FN4G6_Gf0xra"
      }
    },
    {
      "cell_type": "code",
      "source": [
        "def conv3D_5by5(conv_filters=(16, 32, 64, 128), dense_nodes=(256,128), dropout=0.25, num_images=20, height=120, width=120):\n",
        "\n",
        "    model = Sequential()\n",
        "\n",
        "    model.add(Conv3D(conv_filters[0], (5, 5, 5), padding='same', input_shape=(num_images, height, width, 3)))\n",
        "    model.add(Activation('relu'))\n",
        "    model.add(BatchNormalization())\n",
        "    model.add(MaxPooling3D(pool_size=(2, 2, 2)))\n",
        "\n",
        "    model.add(Conv3D(conv_filters[1], (3, 3, 3), padding='same'))\n",
        "    model.add(Activation('relu'))\n",
        "    model.add(BatchNormalization())\n",
        "    model.add(MaxPooling3D(pool_size=(2, 2, 2)))\n",
        "\n",
        "    model.add(Conv3D(conv_filters[2], (3, 3, 3), padding='same'))\n",
        "    model.add(Activation('relu'))\n",
        "    model.add(BatchNormalization())\n",
        "    model.add(MaxPooling3D(pool_size=(2, 2, 2)))\n",
        "\n",
        "    model.add(Conv3D(conv_filters[3], (3, 3, 3), padding='same'))\n",
        "    model.add(Activation('relu'))\n",
        "    model.add(BatchNormalization())\n",
        "    model.add(MaxPooling3D(pool_size=(2, 2, 2)))\n",
        "\n",
        "    model.add(Flatten())\n",
        "    model.add(Dense(dense_nodes[0]))\n",
        "    model.add(Activation('relu'))\n",
        "    model.add(BatchNormalization())\n",
        "    model.add(Dropout(dropout))\n",
        "\n",
        "    model.add(Dense(dense_nodes[1]))\n",
        "    model.add(Activation('relu'))\n",
        "    model.add(BatchNormalization())\n",
        "    model.add(Dropout(dropout))\n",
        "\n",
        "    model.add(Dense(num_classes))\n",
        "    model.add(Activation('softmax'))\n",
        "\n",
        "    opt = optimizers.Adam() #write your optimizer\n",
        "    model.compile(opt, loss='categorical_crossentropy', metrics=['categorical_accuracy'])\n",
        "\n",
        "    return model"
      ],
      "metadata": {
        "id": "y4cZPr6v0ywC"
      },
      "execution_count": null,
      "outputs": []
    },
    {
      "cell_type": "code",
      "source": [
        "num_epochs = 15 # choose the number of epochs\n",
        "print ('# epochs =', num_epochs)\n",
        "batch_size = 10  #experiment with the batch size\n",
        "print ('# batch size =', batch_size)\n",
        "num_frames = 30\n",
        "print ('# num_frames per video =', num_frames)\n",
        "height = 120\n",
        "width = 120\n",
        "\n",
        "model = conv3D_5by5(num_images=num_frames)\n",
        "\n",
        "print (model.summary())"
      ],
      "metadata": {
        "id": "qsdUQ7Ym02M6"
      },
      "execution_count": null,
      "outputs": []
    },
    {
      "cell_type": "code",
      "source": [
        "callbacks_list = model_callbacks(\"model_conv3D_4\")\n",
        "\n",
        "steps_per_epoch, validation_steps = calculate_steps(num_train_sequences, num_val_sequences, batch_size)\n",
        "\n",
        "train_generator = generate(train_path, train_doc, batch_size, num_images=num_frames)\n",
        "\n",
        "val_generator   = generate(val_path, val_doc, batch_size, num_images=num_frames)"
      ],
      "metadata": {
        "id": "Wlk7BvNE05LH"
      },
      "execution_count": null,
      "outputs": []
    },
    {
      "cell_type": "code",
      "source": [
        "history_model_conv3D_4 = model.fit_generator(train_generator, steps_per_epoch=steps_per_epoch, epochs=num_epochs, verbose=1,\n",
        "                              callbacks=callbacks_list, validation_data=val_generator,\n",
        "                              validation_steps=validation_steps, class_weight=None, workers=1, initial_epoch=0)"
      ],
      "metadata": {
        "id": "Az4OLEGV08kU"
      },
      "execution_count": null,
      "outputs": []
    },
    {
      "cell_type": "code",
      "source": [
        "plot_loss_accuracy(history_model_conv3D_4)"
      ],
      "metadata": {
        "id": "A_ix5CDhtFd7"
      },
      "execution_count": null,
      "outputs": []
    },
    {
      "cell_type": "markdown",
      "source": [
        "#TRANSFER LEARNING - MobileNet Conv2d + GRU"
      ],
      "metadata": {
        "id": "i3caAdMrtF7n"
      }
    },
    {
      "cell_type": "code",
      "source": [
        "from keras.applications import mobilenet\n",
        "\n",
        "def mobilenet_RNN(fine_tune=False, gru=False, lstm_gru_cells=128, dense_nodes=128, dropout=0.25, num_images=20, height=120, width=120):\n",
        "\n",
        "    mobilenet_transfer = mobilenet.MobileNet(weights='imagenet', include_top=False)\n",
        "    print(\"Number of layers in the pretrained mobilenet model: \", len(mobilenet_transfer.layers))\n",
        "\n",
        "    if (fine_tune):\n",
        "        # Fine-tune from this layer onwards\n",
        "        fine_tune_at = 50\n",
        "        # Freeze all the layers before the `fine_tune_at` layer\n",
        "        for layer in mobilenet_transfer.layers[:fine_tune_at]:\n",
        "            layer.trainable = False\n",
        "\n",
        "    model = Sequential()\n",
        "    model.add(TimeDistributed(mobilenet_transfer,input_shape=(num_images, height, width, 3)))\n",
        "    model.add(TimeDistributed(BatchNormalization()))\n",
        "    model.add(TimeDistributed(MaxPooling2D((2, 2))))\n",
        "    model.add(TimeDistributed(Flatten()))\n",
        "    if (gru):\n",
        "        model.add(GRU(lstm_gru_cells))\n",
        "    else:\n",
        "        model.add(LSTM(lstm_gru_cells))\n",
        "    model.add(Dropout(dropout))\n",
        "    model.add(Dense(dense_nodes, activation='relu'))\n",
        "    model.add(Dropout(dropout))\n",
        "    model.add(Dense(num_classes, activation='softmax'))\n",
        "\n",
        "    opt = optimizers.Adam() #write your optimizer\n",
        "    model.compile(opt, loss='categorical_crossentropy', metrics=['categorical_accuracy'])\n",
        "    return model"
      ],
      "metadata": {
        "id": "yF-jDYQqtKy9"
      },
      "execution_count": null,
      "outputs": []
    },
    {
      "cell_type": "markdown",
      "source": [
        "##Mobilenet (re train all weights) + GRU (128 cells) + 128 dense nodes"
      ],
      "metadata": {
        "id": "yMAEOSQT4eLw"
      }
    },
    {
      "cell_type": "code",
      "source": [
        "num_epochs = 20 # choose the number of epochs\n",
        "print ('# epochs =', num_epochs)\n",
        "batch_size = 10  #experiment with the batch size\n",
        "print ('# batch size =', batch_size)\n",
        "num_frames = 20\n",
        "print ('# num frames per video =', num_frames)\n",
        "height = 120\n",
        "width = 120\n",
        "\n",
        "model = mobilenet_RNN(num_images=num_frames, gru=True)\n",
        "print (model.summary())"
      ],
      "metadata": {
        "id": "8vdVwgyxtPVN"
      },
      "execution_count": null,
      "outputs": []
    },
    {
      "cell_type": "code",
      "source": [
        "callbacks_list = model_callbacks(\"model_retrain_mobilenet_gru\")\n",
        "\n",
        "steps_per_epoch, validation_steps = calculate_steps(num_train_sequences, num_val_sequences, batch_size)\n",
        "\n",
        "train_generator = generate(train_path, train_doc, batch_size, num_images=num_frames)\n",
        "\n",
        "val_generator   = generate(val_path, val_doc, batch_size, num_images=num_frames)"
      ],
      "metadata": {
        "id": "EYiR9b-LtR0I"
      },
      "execution_count": null,
      "outputs": []
    },
    {
      "cell_type": "code",
      "source": [
        "history_model_retrain_mobilenet_gru = model.fit_generator(train_generator, steps_per_epoch=steps_per_epoch, epochs=num_epochs, verbose=1,\n",
        "                              callbacks=callbacks_list, validation_data=val_generator,\n",
        "                              validation_steps=validation_steps, class_weight=None, workers=1, initial_epoch=0)"
      ],
      "metadata": {
        "id": "gjNTs-tat3Kg"
      },
      "execution_count": null,
      "outputs": []
    },
    {
      "cell_type": "code",
      "source": [
        "plot_loss_accuracy(history_model_retrain_mobilenet_gru)"
      ],
      "metadata": {
        "id": "NCvfKeERt5jI"
      },
      "execution_count": null,
      "outputs": []
    },
    {
      "cell_type": "markdown",
      "source": [
        "##Mobilenet (re train all wieghts) + LSTM (128 cells) + 128 dense nodes"
      ],
      "metadata": {
        "id": "xwGrIaJU6C1p"
      }
    },
    {
      "cell_type": "code",
      "source": [
        "num_epochs = 20 # choose the number of epochs\n",
        "print ('# epochs =', num_epochs)\n",
        "batch_size = 10  #experiment with the batch size\n",
        "print ('# batch size =', batch_size)\n",
        "num_frames = 20\n",
        "print ('# num frames per video =', num_frames)\n",
        "height = 120\n",
        "width = 120\n",
        "\n",
        "model = mobilenet_RNN(fine_tune=False, gru=False, num_images=num_frames)\n",
        "print(model.summary())"
      ],
      "metadata": {
        "id": "q5DI8ZzQ6GaO"
      },
      "execution_count": null,
      "outputs": []
    },
    {
      "cell_type": "code",
      "source": [
        "callbacks_list = model_callbacks(\"model_retrain_mobilenet_lstm\")\n",
        "\n",
        "steps_per_epoch, validation_steps = calculate_steps(num_train_sequences, num_val_sequences, batch_size)\n",
        "\n",
        "train_generator = generate(train_path, train_doc, batch_size, num_images=num_frames)\n",
        "\n",
        "val_generator   = generate(val_path, val_doc, batch_size, num_images=num_frames)"
      ],
      "metadata": {
        "id": "zuWuoG2s6I4U"
      },
      "execution_count": null,
      "outputs": []
    },
    {
      "cell_type": "code",
      "source": [
        "history_model_retrain_mobilenet_lstm = model.fit_generator(train_generator, steps_per_epoch=steps_per_epoch, epochs=num_epochs, verbose=1,\n",
        "                              callbacks=callbacks_list, validation_data=val_generator,\n",
        "                              validation_steps=validation_steps, class_weight=None, workers=1, initial_epoch=0)"
      ],
      "metadata": {
        "id": "4v3iGzwE6MFe"
      },
      "execution_count": null,
      "outputs": []
    },
    {
      "cell_type": "code",
      "source": [
        "plot_loss_accuracy(history_model_retrain_mobilenet_lstm)"
      ],
      "metadata": {
        "id": "Oq6uauHM6PAq"
      },
      "execution_count": null,
      "outputs": []
    }
  ],
  "metadata": {
    "kernelspec": {
      "display_name": "Python 3",
      "name": "python3"
    },
    "language_info": {
      "codemirror_mode": {
        "name": "ipython",
        "version": 3
      },
      "file_extension": ".py",
      "mimetype": "text/x-python",
      "name": "python",
      "nbconvert_exporter": "python",
      "pygments_lexer": "ipython3",
      "version": "3.6.5"
    },
    "colab": {
      "provenance": [],
      "machine_shape": "hm",
      "gpuType": "A100"
    },
    "accelerator": "GPU"
  },
  "nbformat": 4,
  "nbformat_minor": 0
}
